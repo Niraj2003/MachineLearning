{
  "nbformat": 4,
  "nbformat_minor": 0,
  "metadata": {
    "colab": {
      "provenance": [],
      "mount_file_id": "1w8cbTzqhNc_aRIgr5uVfFnPWlyWwNojr",
      "authorship_tag": "ABX9TyOMf6t0/76GZq+OEKG0v6xY",
      "include_colab_link": true
    },
    "kernelspec": {
      "name": "python3",
      "display_name": "Python 3"
    },
    "language_info": {
      "name": "python"
    }
  },
  "cells": [
    {
      "cell_type": "markdown",
      "metadata": {
        "id": "view-in-github",
        "colab_type": "text"
      },
      "source": [
        "<a href=\"https://colab.research.google.com/github/Niraj2003/MachineLearning/blob/main/ML3.ipynb\" target=\"_parent\"><img src=\"https://colab.research.google.com/assets/colab-badge.svg\" alt=\"Open In Colab\"/></a>"
      ]
    },
    {
      "cell_type": "code",
      "execution_count": null,
      "metadata": {
        "id": "JIgw8iTgQAoW"
      },
      "outputs": [],
      "source": [
        "import tensorflow as tf\n",
        "from tensorflow import keras\n",
        "import numpy as np\n",
        "import pandas as pd\n",
        "import matplotlib.pyplot as plt\n",
        "from sklearn.model_selection import train_test_split\n",
        "from sklearn.preprocessing import StandardScaler\n",
        "from sklearn.linear_model import LinearRegression\n",
        "from sklearn.metrics import mean_squared_error\n"
      ]
    },
    {
      "cell_type": "code",
      "source": [
        "housing = pd.read_csv('/content/drive/MyDrive/datasets/housing.csv')\n",
        "housing.head()\n",
        "housing.pop('ocean_proximity')\n",
        "housing.pop('total_bedrooms')\n",
        "housing.columns\n"
      ],
      "metadata": {
        "colab": {
          "base_uri": "https://localhost:8080/"
        },
        "id": "3BcbqwlcRwZn",
        "outputId": "7ee1acc4-d1be-4ac4-f803-943735867653"
      },
      "execution_count": null,
      "outputs": [
        {
          "output_type": "execute_result",
          "data": {
            "text/plain": [
              "Index(['longitude', 'latitude', 'housing_median_age', 'total_rooms',\n",
              "       'population', 'households', 'median_income', 'median_house_value'],\n",
              "      dtype='object')"
            ]
          },
          "metadata": {},
          "execution_count": 141
        }
      ]
    },
    {
      "cell_type": "code",
      "source": [
        "hnorm = (housing - housing.min())/(housing.max() - housing.min())\n",
        "hnorm.isna().sum\n",
        "target = housing.pop('median_house_value')\n",
        "X = hnorm.values\n",
        "y = target.values\n",
        "X_train, X_test, y_train, y_test = train_test_split(X, y, test_size=0.2, random_state=1)"
      ],
      "metadata": {
        "id": "YNYzbLHJFQzs"
      },
      "execution_count": null,
      "outputs": []
    },
    {
      "cell_type": "code",
      "source": [
        "X_train.shape"
      ],
      "metadata": {
        "colab": {
          "base_uri": "https://localhost:8080/"
        },
        "id": "EL0qDS6zbTpz",
        "outputId": "c4906d05-65ae-4e82-eae0-beaa67a7dcbe"
      },
      "execution_count": null,
      "outputs": [
        {
          "output_type": "execute_result",
          "data": {
            "text/plain": [
              "(16512, 8)"
            ]
          },
          "metadata": {},
          "execution_count": 143
        }
      ]
    },
    {
      "cell_type": "code",
      "source": [
        "y_train.shape\n"
      ],
      "metadata": {
        "colab": {
          "base_uri": "https://localhost:8080/"
        },
        "id": "FJgejveybfIa",
        "outputId": "c34212bb-d6d6-47e4-e7fc-014c05fe9fd2"
      },
      "execution_count": null,
      "outputs": [
        {
          "output_type": "execute_result",
          "data": {
            "text/plain": [
              "(16512,)"
            ]
          },
          "metadata": {},
          "execution_count": 144
        }
      ]
    },
    {
      "cell_type": "code",
      "source": [
        "X_test.shape"
      ],
      "metadata": {
        "colab": {
          "base_uri": "https://localhost:8080/"
        },
        "id": "iVYxyE8TbhSr",
        "outputId": "c1d32b96-a4e7-4e39-f2c5-39476622cf62"
      },
      "execution_count": null,
      "outputs": [
        {
          "output_type": "execute_result",
          "data": {
            "text/plain": [
              "(4128, 8)"
            ]
          },
          "metadata": {},
          "execution_count": 145
        }
      ]
    },
    {
      "cell_type": "code",
      "source": [
        "y_test.shape"
      ],
      "metadata": {
        "colab": {
          "base_uri": "https://localhost:8080/"
        },
        "id": "hVHrsVOibkXC",
        "outputId": "56a2de79-a07a-49da-eaa9-e96851bfa6ed"
      },
      "execution_count": null,
      "outputs": [
        {
          "output_type": "execute_result",
          "data": {
            "text/plain": [
              "(4128,)"
            ]
          },
          "metadata": {},
          "execution_count": 146
        }
      ]
    },
    {
      "cell_type": "code",
      "source": [
        "model = keras.models.Sequential(\n",
        "    [        \n",
        "        keras.layers.Dense(64, activation= 'relu', input_shape=(8,)),\n",
        "        keras.layers.Dense(1,activation='linear')\n",
        "    ]\n",
        ")\n",
        "\n",
        "model.compile(optimizer=\"sgd\", \n",
        "              loss=\"mean_absolute_error\", \n",
        "              metrics=[\n",
        "                  'mae',\n",
        "                  'mse',\n",
        "                  'mean_absolute_percentage_error'\n",
        "              ]\n",
        "    )\n",
        "\n",
        "history = model.fit(X_train, y_train, epochs=20, verbose=1,batch_size=32,validation_data=(X_test, y_test))\n"
      ],
      "metadata": {
        "colab": {
          "base_uri": "https://localhost:8080/"
        },
        "id": "ea-ypFxoFU2j",
        "outputId": "f6e8757c-0aac-4050-cb3c-34f80b41ebd2"
      },
      "execution_count": null,
      "outputs": [
        {
          "output_type": "stream",
          "name": "stdout",
          "text": [
            "Epoch 1/20\n",
            "516/516 [==============================] - 3s 4ms/step - loss: 189636.6406 - mae: 189636.6406 - mse: 49993285632.0000 - mean_absolute_percentage_error: 90.0209 - val_loss: 78607.5625 - val_mae: 78607.5625 - val_mse: 11332836352.0000 - val_mean_absolute_percentage_error: 46.3230\n",
            "Epoch 2/20\n",
            "516/516 [==============================] - 2s 3ms/step - loss: 62312.6680 - mae: 62312.6680 - mse: 6911539712.0000 - mean_absolute_percentage_error: 38.7701 - val_loss: 36940.0938 - val_mae: 36940.0938 - val_mse: 2348334336.0000 - val_mean_absolute_percentage_error: 23.8424\n",
            "Epoch 3/20\n",
            "516/516 [==============================] - 1s 3ms/step - loss: 12594.5010 - mae: 12594.5010 - mse: 435659968.0000 - mean_absolute_percentage_error: 7.2863 - val_loss: 4522.9663 - val_mae: 4522.9663 - val_mse: 39958252.0000 - val_mean_absolute_percentage_error: 2.6198\n",
            "Epoch 4/20\n",
            "516/516 [==============================] - 1s 3ms/step - loss: 4322.3447 - mae: 4322.3447 - mse: 26247740.0000 - mean_absolute_percentage_error: 2.6731 - val_loss: 6022.8774 - val_mae: 6022.8774 - val_mse: 40262768.0000 - val_mean_absolute_percentage_error: 4.0646\n",
            "Epoch 5/20\n",
            "516/516 [==============================] - 1s 2ms/step - loss: 4567.5210 - mae: 4567.5210 - mse: 25159042.0000 - mean_absolute_percentage_error: 2.8718 - val_loss: 4661.0879 - val_mae: 4661.0879 - val_mse: 24395428.0000 - val_mean_absolute_percentage_error: 3.0801\n",
            "Epoch 6/20\n",
            "516/516 [==============================] - 1s 2ms/step - loss: 4451.8521 - mae: 4451.8521 - mse: 23454926.0000 - mean_absolute_percentage_error: 2.7941 - val_loss: 4516.4629 - val_mae: 4516.4629 - val_mse: 22807594.0000 - val_mean_absolute_percentage_error: 3.2151\n",
            "Epoch 7/20\n",
            "516/516 [==============================] - 2s 4ms/step - loss: 4340.2383 - mae: 4340.2383 - mse: 22519380.0000 - mean_absolute_percentage_error: 2.7069 - val_loss: 4714.5752 - val_mae: 4714.5752 - val_mse: 23880038.0000 - val_mean_absolute_percentage_error: 2.9766\n",
            "Epoch 8/20\n",
            "516/516 [==============================] - 2s 4ms/step - loss: 4260.2217 - mae: 4260.2217 - mse: 21278036.0000 - mean_absolute_percentage_error: 2.6496 - val_loss: 4624.6387 - val_mae: 4624.6387 - val_mse: 22809538.0000 - val_mean_absolute_percentage_error: 3.1600\n",
            "Epoch 9/20\n",
            "516/516 [==============================] - 3s 5ms/step - loss: 4203.8062 - mae: 4203.8062 - mse: 20024228.0000 - mean_absolute_percentage_error: 2.6130 - val_loss: 3950.9871 - val_mae: 3950.9871 - val_mse: 17299904.0000 - val_mean_absolute_percentage_error: 2.8436\n",
            "Epoch 10/20\n",
            "516/516 [==============================] - 4s 7ms/step - loss: 4067.1982 - mae: 4067.1982 - mse: 19331086.0000 - mean_absolute_percentage_error: 2.5382 - val_loss: 5426.6055 - val_mae: 5426.6055 - val_mse: 30692566.0000 - val_mean_absolute_percentage_error: 3.6695\n",
            "Epoch 11/20\n",
            "516/516 [==============================] - 3s 6ms/step - loss: 4023.4678 - mae: 4023.4678 - mse: 18999834.0000 - mean_absolute_percentage_error: 2.4879 - val_loss: 2775.3853 - val_mae: 2775.3853 - val_mse: 8591199.0000 - val_mean_absolute_percentage_error: 1.8731\n",
            "Epoch 12/20\n",
            "516/516 [==============================] - 2s 5ms/step - loss: 3911.6047 - mae: 3911.6047 - mse: 18057288.0000 - mean_absolute_percentage_error: 2.4224 - val_loss: 3565.9241 - val_mae: 3565.9241 - val_mse: 14693381.0000 - val_mean_absolute_percentage_error: 2.0149\n",
            "Epoch 13/20\n",
            "516/516 [==============================] - 4s 7ms/step - loss: 3820.4258 - mae: 3820.4258 - mse: 17167662.0000 - mean_absolute_percentage_error: 2.3724 - val_loss: 3762.2573 - val_mae: 3762.2573 - val_mse: 15445933.0000 - val_mean_absolute_percentage_error: 2.4701\n",
            "Epoch 14/20\n",
            "516/516 [==============================] - 3s 5ms/step - loss: 3737.7490 - mae: 3737.7490 - mse: 16627533.0000 - mean_absolute_percentage_error: 2.3093 - val_loss: 3339.5503 - val_mae: 3339.5503 - val_mse: 12479060.0000 - val_mean_absolute_percentage_error: 2.2613\n",
            "Epoch 15/20\n",
            "516/516 [==============================] - 3s 6ms/step - loss: 3691.8044 - mae: 3691.8044 - mse: 16183749.0000 - mean_absolute_percentage_error: 2.2749 - val_loss: 3764.4207 - val_mae: 3764.4207 - val_mse: 16738735.0000 - val_mean_absolute_percentage_error: 2.4462\n",
            "Epoch 16/20\n",
            "516/516 [==============================] - 4s 7ms/step - loss: 3626.8308 - mae: 3626.8308 - mse: 15742071.0000 - mean_absolute_percentage_error: 2.2396 - val_loss: 3255.8630 - val_mae: 3255.8630 - val_mse: 11420336.0000 - val_mean_absolute_percentage_error: 2.3222\n",
            "Epoch 17/20\n",
            "516/516 [==============================] - 1s 2ms/step - loss: 3615.9961 - mae: 3615.9961 - mse: 15042368.0000 - mean_absolute_percentage_error: 2.2172 - val_loss: 2969.2415 - val_mae: 2969.2415 - val_mse: 10908019.0000 - val_mean_absolute_percentage_error: 1.8587\n",
            "Epoch 18/20\n",
            "516/516 [==============================] - 1s 2ms/step - loss: 3564.5422 - mae: 3564.5422 - mse: 14942799.0000 - mean_absolute_percentage_error: 2.1869 - val_loss: 3462.2192 - val_mae: 3462.2192 - val_mse: 13391672.0000 - val_mean_absolute_percentage_error: 2.1179\n",
            "Epoch 19/20\n",
            "516/516 [==============================] - 1s 2ms/step - loss: 3528.1230 - mae: 3528.1230 - mse: 14798114.0000 - mean_absolute_percentage_error: 2.1558 - val_loss: 3241.9795 - val_mae: 3241.9795 - val_mse: 11943607.0000 - val_mean_absolute_percentage_error: 2.2445\n",
            "Epoch 20/20\n",
            "516/516 [==============================] - 1s 2ms/step - loss: 3462.1270 - mae: 3462.1270 - mse: 14336926.0000 - mean_absolute_percentage_error: 2.1124 - val_loss: 3955.8833 - val_mae: 3955.8833 - val_mse: 17858474.0000 - val_mean_absolute_percentage_error: 2.2893\n"
          ]
        }
      ]
    },
    {
      "cell_type": "code",
      "source": [
        "model.summary()"
      ],
      "metadata": {
        "colab": {
          "base_uri": "https://localhost:8080/"
        },
        "id": "FFaTPJykb7Q7",
        "outputId": "062e268f-362f-4475-bf4a-ad85b25e88ff"
      },
      "execution_count": null,
      "outputs": [
        {
          "output_type": "stream",
          "name": "stdout",
          "text": [
            "Model: \"sequential_10\"\n",
            "_________________________________________________________________\n",
            " Layer (type)                Output Shape              Param #   \n",
            "=================================================================\n",
            " dense_20 (Dense)            (None, 64)                576       \n",
            "                                                                 \n",
            " dense_21 (Dense)            (None, 1)                 65        \n",
            "                                                                 \n",
            "=================================================================\n",
            "Total params: 641\n",
            "Trainable params: 641\n",
            "Non-trainable params: 0\n",
            "_________________________________________________________________\n"
          ]
        }
      ]
    },
    {
      "cell_type": "code",
      "source": [
        "htest = model.evaluate(X_test, y_test)\n",
        "htest"
      ],
      "metadata": {
        "colab": {
          "base_uri": "https://localhost:8080/"
        },
        "id": "qKaqt0rUpzsq",
        "outputId": "f9d77ea5-3c55-4f87-ac97-550cbde278d7"
      },
      "execution_count": null,
      "outputs": [
        {
          "output_type": "stream",
          "name": "stdout",
          "text": [
            "129/129 [==============================] - 0s 2ms/step - loss: 3955.8833 - mae: 3955.8833 - mse: 17858474.0000 - mean_absolute_percentage_error: 2.2893\n"
          ]
        },
        {
          "output_type": "execute_result",
          "data": {
            "text/plain": [
              "[3955.88330078125, 3955.88330078125, 17858474.0, 2.2893097400665283]"
            ]
          },
          "metadata": {},
          "execution_count": 149
        }
      ]
    },
    {
      "cell_type": "code",
      "source": [
        "predict = model.predict(X_test)\n",
        "predict"
      ],
      "metadata": {
        "id": "qxXM7FSOxdrZ",
        "colab": {
          "base_uri": "https://localhost:8080/"
        },
        "outputId": "66c11084-d614-4710-9767-0386dddcb71f"
      },
      "execution_count": null,
      "outputs": [
        {
          "output_type": "stream",
          "name": "stdout",
          "text": [
            "129/129 [==============================] - 0s 1ms/step\n"
          ]
        },
        {
          "output_type": "execute_result",
          "data": {
            "text/plain": [
              "array([[359353.62 ],\n",
              "       [ 72701.734],\n",
              "       [232631.06 ],\n",
              "       ...,\n",
              "       [354275.75 ],\n",
              "       [231792.22 ],\n",
              "       [144611.86 ]], dtype=float32)"
            ]
          },
          "metadata": {},
          "execution_count": 150
        }
      ]
    },
    {
      "cell_type": "code",
      "source": [
        "loss, mae, mse, mape = model.evaluate(X_test, y_test)\n",
        "rmse = np.sqrt(mse)\n",
        "print(\"Loss \", loss)\n",
        "print(\"Mean Absolute Eror \", mae)\n",
        "print(\"Mean Square Eror \", mse)\n",
        "print(\"Root Mean Square Eror \", rmse)\n",
        "print(\"Mean Absolute Percentage Eror \", mape)\n"
      ],
      "metadata": {
        "colab": {
          "base_uri": "https://localhost:8080/"
        },
        "id": "wQUClf1jnki9",
        "outputId": "3b19e034-0949-4e0b-b818-c24cdc7503c3"
      },
      "execution_count": null,
      "outputs": [
        {
          "output_type": "stream",
          "name": "stdout",
          "text": [
            "129/129 [==============================] - 0s 2ms/step - loss: 3955.8833 - mae: 3955.8833 - mse: 17858474.0000 - mean_absolute_percentage_error: 2.2893\n",
            "Loss  3955.88330078125\n",
            "Mean Absolute Eror  3955.88330078125\n",
            "Mean Square Eror  17858474.0\n",
            "Root Mean Square Eror  4225.928773654378\n",
            "Mean Absolute Percentage Eror  2.2893097400665283\n"
          ]
        }
      ]
    },
    {
      "cell_type": "code",
      "source": [
        "Accuracy = 100 - mape\n",
        "Accuracy"
      ],
      "metadata": {
        "colab": {
          "base_uri": "https://localhost:8080/"
        },
        "id": "GgRnIY63oRSr",
        "outputId": "6cc8821b-378a-4c05-a348-bfd7f9acc4fb"
      },
      "execution_count": null,
      "outputs": [
        {
          "output_type": "execute_result",
          "data": {
            "text/plain": [
              "97.71069025993347"
            ]
          },
          "metadata": {},
          "execution_count": 152
        }
      ]
    },
    {
      "cell_type": "code",
      "source": [
        "plt.plot(y_test, predict)\n",
        "plt.xlabel(\"Original Values \")\n",
        "plt.xlabel(\"Prediction\")\n",
        "plt.show()"
      ],
      "metadata": {
        "colab": {
          "base_uri": "https://localhost:8080/"
        },
        "id": "z-5nvJhloUXf",
        "outputId": "70befdf6-6bd7-4e15-f130-902ce3b056ae"
      },
      "execution_count": null,
      "outputs": [
        {
          "output_type": "display_data",
          "data": {
            "text/plain": [
              "<Figure size 640x480 with 1 Axes>"
            ],
            "image/png": "[encoded data removed]"
          },
          "metadata": {}
        }
      ]
    },
    {
      "cell_type": "code",
      "source": [
        "plt.plot(history.history['mse'])\n",
        "plt.title(\"Training MSE vs Epoch\")\n",
        "plt.xlabel(\"epochs\")\n",
        "plt.ylabel(\"MSE\")\n",
        "plt.xticks(range(1,21,3))\n",
        "plt.show()"
      ],
      "metadata": {
        "id": "tqKYWQnHooV1",
        "colab": {
          "base_uri": "https://localhost:8080/"
        },
        "outputId": "0ca9933f-2547-48ee-b394-b24eea31422b"
      },
      "execution_count": null,
      "outputs": [
        {
          "output_type": "display_data",
          "data": {
            "text/plain": [
              "<Figure size 640x480 with 1 Axes>"
            ],
            "image/png": "[encoded data removed]"
          },
          "metadata": {}
        }
      ]
    }
  ]
}