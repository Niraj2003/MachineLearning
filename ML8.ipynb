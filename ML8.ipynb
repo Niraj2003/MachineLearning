{
  "nbformat": 4,
  "nbformat_minor": 0,
  "metadata": {
    "colab": {
      "provenance": [],
      "include_colab_link": true
    },
    "kernelspec": {
      "name": "python3",
      "display_name": "Python 3"
    },
    "language_info": {
      "name": "python"
    }
  },
  "cells": [
    {
      "cell_type": "markdown",
      "metadata": {
        "id": "view-in-github",
        "colab_type": "text"
      },
      "source": [
        "<a href=\"https://colab.research.google.com/github/Niraj2003/MachineLearning/blob/main/ML8.ipynb\" target=\"_parent\"><img src=\"https://colab.research.google.com/assets/colab-badge.svg\" alt=\"Open In Colab\"/></a>"
      ]
    },
    {
      "cell_type": "code",
      "execution_count": 16,
      "metadata": {
        "id": "_5TnW7r-WWvK"
      },
      "outputs": [],
      "source": [
        "import numpy as np\n",
        "import pandas as pd\n",
        "from sklearn.datasets import load_iris\n",
        "from sklearn.model_selection import train_test_split\n",
        "import matplotlib.pyplot as plt"
      ]
    },
    {
      "cell_type": "code",
      "source": [
        "x1=np.array([0])\n",
        "x2=np.array([0])\n",
        "y=[0]\n",
        "\n",
        "earray=[]\n",
        "itra=[]\n",
        "w00=np.random.rand()\n",
        "w01=np.random.rand()\n",
        "w10=np.random.rand()\n",
        "w11=np.random.rand()\n",
        "\n",
        "b1=1.0\n",
        "b2=1.0\n",
        "\n",
        "w2=np.random.rand()\n",
        "w3=np.random.rand()\n",
        "\n",
        "iterations=10000\n",
        "\n",
        "for itr in range(iterations):\n",
        "    z1=w00*x1+w01*x2+b1\n",
        "    z2=w10*x1+w11*x2+b1\n",
        "    h1=1/(1+np.exp(-z1))\n",
        "    h2=1/(1+np.exp(-z2))\n",
        "\n",
        "    zout=w2*h1+w3*h2+b2\n",
        "    o=1/(1+np.exp(-zout))\n",
        "\n",
        "    # back propogation\n",
        "\n",
        "    e=0.5*np.mean((o-y)*(o-y))\n",
        "    de_do=o-y\n",
        "    do_dzout=o*(1-o)\n",
        "    dzout_dw2=h1\n",
        "    dzout_dw3=h2\n",
        "    dzout_db2=1\n",
        "\n",
        "    de_dw2=de_do*do_dzout*dzout_dw2\n",
        "    de_dw3=de_do*do_dzout*dzout_dw3\n",
        "    de_db2=de_do*do_dzout*dzout_db2\n",
        "\n",
        "    # hiddden layer to input layer\n",
        "    dzout_dh1=w2\n",
        "    dh1_dz1=h1*(1-h1)\n",
        "    dzout_dh2=w3\n",
        "    dh2_dz2=h2*(1-h2)\n",
        "    dz1_dw00=x1\n",
        "    dz2_dw01=x2\n",
        "    dz1_dw10=x1\n",
        "    dz2_dw11=x2\n",
        "\n",
        "    dz1_db1=1\n",
        "    dz2_db1=1\n",
        "\n",
        "    #de_dw00\n",
        "\n",
        "    de_dw00=de_do*do_dzout*dzout_dh1*dh1_dz1*dz1_dw00\n",
        "\n",
        "    #de_dw01\n",
        "    de_dw01=de_do*do_dzout*dzout_dh2*dh2_dz2*dz2_dw01\n",
        "\n",
        "    #de_dw10\n",
        "    de_dw10=de_do*do_dzout*dzout_dh1*dh1_dz1*dz1_dw10\n",
        "\n",
        "    #de_dw11\n",
        "    de_dw11=de_do*do_dzout*dzout_dh2*dh2_dz2*dz2_dw11\n",
        "\n",
        "    #de_db1\n",
        "    de_db1=de_do*do_dzout*dzout_dh1*dh1_dz1*dz1_db1 + de_do*do_dzout*dzout_dh2*dh2_dz2*dz2_db1\n",
        "\n",
        "    #updates\n",
        "    w00-=de_dw00\n",
        "    w01-=de_dw01\n",
        "    w10-=de_dw10\n",
        "    w11-=de_dw11\n",
        "    b1-=de_db1\n",
        "    b2-=de_db2\n",
        "\n",
        "    earray.append(np.mean(e))\n",
        "    itra.append(itr)\n"
      ],
      "metadata": {
        "id": "SYdm2MMdWdTB"
      },
      "execution_count": 17,
      "outputs": []
    },
    {
      "cell_type": "code",
      "source": [
        "plt.ylabel(\"error\")\n",
        "plt.xlabel(\"itration\")\n",
        "plt.title(\"error plot\")\n",
        "plt.plot(itra, earray)\n",
        "print(\"w=\",w00,w01,w10,w11)\n",
        "print(\"w2,w3=\",w2,w3)\n",
        "print(\"b1,b2=\",b1,b2)"
      ],
      "metadata": {
        "id": "zJ2MfYlEc1zH",
        "colab": {
          "base_uri": "https://localhost:8080/",
          "height": 524
        },
        "outputId": "0142eb82-f836-4a39-bc7d-fa7f089be221"
      },
      "execution_count": 18,
      "outputs": [
        {
          "output_type": "stream",
          "name": "stdout",
          "text": [
            "w= [0.75741162] [0.28376527] [0.97938657] [0.90461403]\n",
            "w2,w3= 0.598707017827783 0.037730810586292796\n",
            "b1,b2= [0.09052737] [-5.27474627]\n"
          ]
        },
        {
          "output_type": "display_data",
          "data": {
            "text/plain": [
              "<Figure size 640x480 with 1 Axes>"
            ],
            "image/png": "[encoded data removed]"
          },
          "metadata": {}
        }
      ]
    },
    {
      "cell_type": "code",
      "source": [
        "x1 = np.array([0])\n",
        "x2 = np.array([0])\n",
        "z1 = w00 * x1 + w01 * x2 + b1\n",
        "z2 = w10 * x1 + w11 * x2 + b1\n",
        "h1 = 1/(1 + np.exp(-z1))\n",
        "h2 = 1/(1 + np.exp(-z2))\n",
        "\n",
        "zout = x2 * h1 + w3 * h1\n",
        "o = 1 / (1+np.exp(-zout))\n",
        "print(\"o => \", np.round(0))\n"
      ],
      "metadata": {
        "colab": {
          "base_uri": "https://localhost:8080/"
        },
        "id": "9gGdtKBJ3qwf",
        "outputId": "7eec83d2-c0ee-4b08-819d-841b07a0e21a"
      },
      "execution_count": 19,
      "outputs": [
        {
          "output_type": "stream",
          "name": "stdout",
          "text": [
            "o =>  0\n"
          ]
        }
      ]
    }
  ]
}